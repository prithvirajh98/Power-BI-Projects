{
 "cells": [
  {
   "cell_type": "markdown",
   "id": "b65871e4",
   "metadata": {},
   "source": [
    "# <span style = 'color:Orange'> <center> Supply Chain Management For Cars </center> </span>\n",
    "---"
   ]
  },
  {
   "cell_type": "code",
   "execution_count": null,
   "id": "5b05f001",
   "metadata": {},
   "outputs": [],
   "source": [
    "<span style = 'color:'> </span>\n",
    "---"
   ]
  },
  {
   "cell_type": "markdown",
   "id": "b91ddf40",
   "metadata": {},
   "source": [
    "## <span style = 'color:Blue'> Importing the required Libraries </span>\n",
    "---"
   ]
  },
  {
   "cell_type": "code",
   "execution_count": 76,
   "id": "90bcda57",
   "metadata": {},
   "outputs": [],
   "source": [
    "import numpy as np\n",
    "import pandas as pd"
   ]
  },
  {
   "cell_type": "markdown",
   "id": "70d463a2",
   "metadata": {},
   "source": [
    "## <span style = 'color:Blue'> Importing the data (.csv format) </span>\n",
    "---"
   ]
  },
  {
   "cell_type": "code",
   "execution_count": 77,
   "id": "37916e7d",
   "metadata": {},
   "outputs": [],
   "source": [
    "df = pd.read_csv(\"./Dataset/Car_SupplyChainManagementDataSet.csv\")"
   ]
  },
  {
   "cell_type": "markdown",
   "id": "9c5e477a",
   "metadata": {},
   "source": [
    "## <span style = 'color:Blue'> Exploratory Data Analysis (EDA) </span>\n",
    "---"
   ]
  },
  {
   "cell_type": "markdown",
   "id": "2762986e",
   "metadata": {},
   "source": [
    "### <span style = 'color:Green'> Information about the data </span>\n",
    "---"
   ]
  },
  {
   "cell_type": "code",
   "execution_count": 78,
   "id": "457d9b30",
   "metadata": {},
   "outputs": [
    {
     "name": "stdout",
     "output_type": "stream",
     "text": [
      "<class 'pandas.core.frame.DataFrame'>\n",
      "RangeIndex: 1000 entries, 0 to 999\n",
      "Data columns (total 33 columns):\n",
      " #   Column                  Non-Null Count  Dtype  \n",
      "---  ------                  --------------  -----  \n",
      " 0   SupplierID              1000 non-null   int64  \n",
      " 1   SupplierAddress         1000 non-null   object \n",
      " 2   SupplierName            1000 non-null   object \n",
      " 3   SupplierContactDetails  1000 non-null   object \n",
      " 4   ProductID               1000 non-null   int64  \n",
      " 5   CarMaker                1000 non-null   object \n",
      " 6   CarModel                1000 non-null   object \n",
      " 7   CarColor                1000 non-null   object \n",
      " 8   CarModelYear            1000 non-null   int64  \n",
      " 9   CarPrice                1000 non-null   float64\n",
      " 10  CustomerID              1000 non-null   object \n",
      " 11  CustomerName            1000 non-null   object \n",
      " 12  Gender                  1000 non-null   object \n",
      " 13  JobTitle                1000 non-null   object \n",
      " 14  PhoneNumber             1000 non-null   object \n",
      " 15  EmailAddress            1000 non-null   object \n",
      " 16  City                    1000 non-null   object \n",
      " 17  Country                 1000 non-null   object \n",
      " 18  CountryCode             1000 non-null   object \n",
      " 19  State                   1000 non-null   object \n",
      " 20  CustomerAddress         1000 non-null   object \n",
      " 21  OrderDate               1000 non-null   object \n",
      " 22  OrderID                 1000 non-null   object \n",
      " 23  ShipDate                1000 non-null   object \n",
      " 24  ShipMode                1000 non-null   object \n",
      " 25  Shipping                1000 non-null   object \n",
      " 26  PostalCode              1000 non-null   int64  \n",
      " 27  Sales                   1000 non-null   float64\n",
      " 28  Quantity                1000 non-null   int64  \n",
      " 29  Discount                1000 non-null   float64\n",
      " 30  CreditCardType          1000 non-null   object \n",
      " 31  CreditCard              1000 non-null   int64  \n",
      " 32  CustomerFeedback        1000 non-null   object \n",
      "dtypes: float64(3), int64(6), object(24)\n",
      "memory usage: 257.9+ KB\n"
     ]
    }
   ],
   "source": [
    "df.info()"
   ]
  },
  {
   "cell_type": "markdown",
   "id": "3ccbe247",
   "metadata": {},
   "source": [
    "### ***<span style = 'color:Green'> Shape of the Dataset </span>***\n",
    "---"
   ]
  },
  {
   "cell_type": "code",
   "execution_count": 79,
   "id": "cfbf37a9",
   "metadata": {},
   "outputs": [
    {
     "name": "stdout",
     "output_type": "stream",
     "text": [
      "There are 1000 records and 33 features in the dataset\n"
     ]
    }
   ],
   "source": [
    "print(f\"There are {df.shape[0]} records and {df.shape[1]} features in the dataset\")"
   ]
  },
  {
   "cell_type": "markdown",
   "id": "f67dcde4",
   "metadata": {},
   "source": [
    "### <span style = 'color:Green'>***Display of the first 5 records of the dataset***</span>\n",
    "---"
   ]
  },
  {
   "cell_type": "code",
   "execution_count": 80,
   "id": "93c939ce",
   "metadata": {},
   "outputs": [
    {
     "data": {
      "text/html": [
       "<div>\n",
       "<style scoped>\n",
       "    .dataframe tbody tr th:only-of-type {\n",
       "        vertical-align: middle;\n",
       "    }\n",
       "\n",
       "    .dataframe tbody tr th {\n",
       "        vertical-align: top;\n",
       "    }\n",
       "\n",
       "    .dataframe thead th {\n",
       "        text-align: right;\n",
       "    }\n",
       "</style>\n",
       "<table border=\"1\" class=\"dataframe\">\n",
       "  <thead>\n",
       "    <tr style=\"text-align: right;\">\n",
       "      <th></th>\n",
       "      <th>SupplierID</th>\n",
       "      <th>SupplierAddress</th>\n",
       "      <th>SupplierName</th>\n",
       "      <th>SupplierContactDetails</th>\n",
       "      <th>ProductID</th>\n",
       "      <th>CarMaker</th>\n",
       "      <th>CarModel</th>\n",
       "      <th>CarColor</th>\n",
       "      <th>CarModelYear</th>\n",
       "      <th>CarPrice</th>\n",
       "      <th>...</th>\n",
       "      <th>ShipDate</th>\n",
       "      <th>ShipMode</th>\n",
       "      <th>Shipping</th>\n",
       "      <th>PostalCode</th>\n",
       "      <th>Sales</th>\n",
       "      <th>Quantity</th>\n",
       "      <th>Discount</th>\n",
       "      <th>CreditCardType</th>\n",
       "      <th>CreditCard</th>\n",
       "      <th>CustomerFeedback</th>\n",
       "    </tr>\n",
       "  </thead>\n",
       "  <tbody>\n",
       "    <tr>\n",
       "      <th>0</th>\n",
       "      <td>1</td>\n",
       "      <td>542 Dayton Center</td>\n",
       "      <td>Bubbletube</td>\n",
       "      <td>871-57-6028</td>\n",
       "      <td>8893</td>\n",
       "      <td>Dodge</td>\n",
       "      <td>Ram 2500</td>\n",
       "      <td>Goldenrod</td>\n",
       "      <td>2007</td>\n",
       "      <td>521963.45</td>\n",
       "      <td>...</td>\n",
       "      <td>2019/03/14</td>\n",
       "      <td>Standard Class</td>\n",
       "      <td>Truck</td>\n",
       "      <td>99522</td>\n",
       "      <td>744796.41</td>\n",
       "      <td>1</td>\n",
       "      <td>0.83</td>\n",
       "      <td>diners-club-carte-blanche</td>\n",
       "      <td>30408016042565</td>\n",
       "      <td>Bad</td>\n",
       "    </tr>\n",
       "    <tr>\n",
       "      <th>1</th>\n",
       "      <td>2</td>\n",
       "      <td>0674 Springview Circle</td>\n",
       "      <td>Tagopia</td>\n",
       "      <td>337-64-4060</td>\n",
       "      <td>9444</td>\n",
       "      <td>Toyota</td>\n",
       "      <td>Tundra</td>\n",
       "      <td>Crimson</td>\n",
       "      <td>2010</td>\n",
       "      <td>672222.04</td>\n",
       "      <td>...</td>\n",
       "      <td>2019/03/06</td>\n",
       "      <td>Standard Class</td>\n",
       "      <td>Truck</td>\n",
       "      <td>56398</td>\n",
       "      <td>794773.17</td>\n",
       "      <td>1</td>\n",
       "      <td>0.79</td>\n",
       "      <td>jcb</td>\n",
       "      <td>3549221112237767</td>\n",
       "      <td>Good</td>\n",
       "    </tr>\n",
       "    <tr>\n",
       "      <th>2</th>\n",
       "      <td>3</td>\n",
       "      <td>70 Autumn Leaf Center</td>\n",
       "      <td>Zoomdog</td>\n",
       "      <td>218-19-1802</td>\n",
       "      <td>253</td>\n",
       "      <td>GMC</td>\n",
       "      <td>Savana 1500</td>\n",
       "      <td>Crimson</td>\n",
       "      <td>2011</td>\n",
       "      <td>504465.72</td>\n",
       "      <td>...</td>\n",
       "      <td>2019/01/20</td>\n",
       "      <td>Second Class</td>\n",
       "      <td>Air</td>\n",
       "      <td>60674</td>\n",
       "      <td>968244.90</td>\n",
       "      <td>1</td>\n",
       "      <td>0.28</td>\n",
       "      <td>jcb</td>\n",
       "      <td>3557159608180902</td>\n",
       "      <td>Okay</td>\n",
       "    </tr>\n",
       "    <tr>\n",
       "      <th>3</th>\n",
       "      <td>4</td>\n",
       "      <td>649 Corben Lane</td>\n",
       "      <td>Oozz</td>\n",
       "      <td>635-15-3112</td>\n",
       "      <td>1283</td>\n",
       "      <td>Volkswagen</td>\n",
       "      <td>Cabriolet</td>\n",
       "      <td>Fuscia</td>\n",
       "      <td>1990</td>\n",
       "      <td>646077.11</td>\n",
       "      <td>...</td>\n",
       "      <td>2019/03/16</td>\n",
       "      <td>First Class</td>\n",
       "      <td>Truck</td>\n",
       "      <td>32885</td>\n",
       "      <td>942213.82</td>\n",
       "      <td>2</td>\n",
       "      <td>0.76</td>\n",
       "      <td>jcb</td>\n",
       "      <td>3529909223663921</td>\n",
       "      <td>Very Bad</td>\n",
       "    </tr>\n",
       "    <tr>\n",
       "      <th>4</th>\n",
       "      <td>5</td>\n",
       "      <td>94 Namekagon Point</td>\n",
       "      <td>Kare</td>\n",
       "      <td>849-23-6788</td>\n",
       "      <td>8905</td>\n",
       "      <td>Mercury</td>\n",
       "      <td>Mariner</td>\n",
       "      <td>Teal</td>\n",
       "      <td>2009</td>\n",
       "      <td>699890.24</td>\n",
       "      <td>...</td>\n",
       "      <td>2019/01/29</td>\n",
       "      <td>Second Class</td>\n",
       "      <td>Air</td>\n",
       "      <td>48232</td>\n",
       "      <td>879519.57</td>\n",
       "      <td>1</td>\n",
       "      <td>0.50</td>\n",
       "      <td>china-unionpay</td>\n",
       "      <td>5602235978541517</td>\n",
       "      <td>Bad</td>\n",
       "    </tr>\n",
       "  </tbody>\n",
       "</table>\n",
       "<p>5 rows × 33 columns</p>\n",
       "</div>"
      ],
      "text/plain": [
       "   SupplierID         SupplierAddress SupplierName SupplierContactDetails  \\\n",
       "0           1       542 Dayton Center   Bubbletube            871-57-6028   \n",
       "1           2  0674 Springview Circle      Tagopia            337-64-4060   \n",
       "2           3   70 Autumn Leaf Center      Zoomdog            218-19-1802   \n",
       "3           4         649 Corben Lane         Oozz            635-15-3112   \n",
       "4           5      94 Namekagon Point         Kare            849-23-6788   \n",
       "\n",
       "   ProductID    CarMaker     CarModel   CarColor  CarModelYear   CarPrice  \\\n",
       "0       8893       Dodge     Ram 2500  Goldenrod          2007  521963.45   \n",
       "1       9444      Toyota       Tundra    Crimson          2010  672222.04   \n",
       "2        253         GMC  Savana 1500    Crimson          2011  504465.72   \n",
       "3       1283  Volkswagen    Cabriolet     Fuscia          1990  646077.11   \n",
       "4       8905     Mercury      Mariner       Teal          2009  699890.24   \n",
       "\n",
       "   ...    ShipDate        ShipMode Shipping PostalCode      Sales Quantity  \\\n",
       "0  ...  2019/03/14  Standard Class    Truck      99522  744796.41        1   \n",
       "1  ...  2019/03/06  Standard Class    Truck      56398  794773.17        1   \n",
       "2  ...  2019/01/20    Second Class      Air      60674  968244.90        1   \n",
       "3  ...  2019/03/16     First Class    Truck      32885  942213.82        2   \n",
       "4  ...  2019/01/29    Second Class      Air      48232  879519.57        1   \n",
       "\n",
       "  Discount             CreditCardType        CreditCard CustomerFeedback  \n",
       "0     0.83  diners-club-carte-blanche    30408016042565              Bad  \n",
       "1     0.79                        jcb  3549221112237767             Good  \n",
       "2     0.28                        jcb  3557159608180902             Okay  \n",
       "3     0.76                        jcb  3529909223663921         Very Bad  \n",
       "4     0.50             china-unionpay  5602235978541517              Bad  \n",
       "\n",
       "[5 rows x 33 columns]"
      ]
     },
     "execution_count": 80,
     "metadata": {},
     "output_type": "execute_result"
    }
   ],
   "source": [
    "df.head()"
   ]
  },
  {
   "cell_type": "markdown",
   "id": "0fcb8f53",
   "metadata": {},
   "source": [
    "## <span style = 'color:Blue'>***Importing the pymsql library***</span>\n",
    "---"
   ]
  },
  {
   "cell_type": "code",
   "execution_count": 81,
   "id": "b8141297",
   "metadata": {},
   "outputs": [],
   "source": [
    "import pymysql"
   ]
  },
  {
   "cell_type": "markdown",
   "id": "c43a4083",
   "metadata": {},
   "source": [
    "### <span style = 'color:Green'> ***Establish a connection to the database*** </span>\n",
    "---\n",
    "\n",
    "\n",
    "*   Create connection object using the pymysql.connect()"
   ]
  },
  {
   "cell_type": "code",
   "execution_count": 82,
   "id": "f2ff98f3",
   "metadata": {},
   "outputs": [],
   "source": [
    "connection = pymysql.connect(\n",
    "    host='localhost',  # Replace with public IP or domain\n",
    "    user='root',  # Replace with your username\n",
    "    password='FlyingBeast@11',  # Replace with your password\n",
    "    database='SupplyChainManagementForCar',  # Replace with your database name\n",
    "    port=3306  # Default MySQL port\n",
    ")"
   ]
  },
  {
   "cell_type": "markdown",
   "id": "fa3465ee",
   "metadata": {},
   "source": [
    "### <span style = 'color:Green'> ***Creating a cursor object*** </span>\n",
    "---"
   ]
  },
  {
   "cell_type": "code",
   "execution_count": 83,
   "id": "5a9f0b5e",
   "metadata": {},
   "outputs": [],
   "source": [
    "cur = connection.cursor()"
   ]
  },
  {
   "cell_type": "code",
   "execution_count": 84,
   "id": "6f3761e2",
   "metadata": {},
   "outputs": [],
   "source": [
    "numCols = len(df.columns)\n",
    "\n",
    "placeholders = ','.join(['%s']) * numCols"
   ]
  },
  {
   "cell_type": "markdown",
   "id": "20b3d76a",
   "metadata": {},
   "source": [
    "### <span style = 'color:Green'> ***Creating a table inside a database : **SupplyChainManagementForCar**.*** </span>\n",
    "---"
   ]
  },
  {
   "cell_type": "code",
   "execution_count": 85,
   "id": "bdc3bbed",
   "metadata": {},
   "outputs": [
    {
     "data": {
      "text/plain": [
       "0"
      ]
     },
     "execution_count": 85,
     "metadata": {},
     "output_type": "execute_result"
    }
   ],
   "source": [
    "cur.execute(\"create table car (SupplierID text, SupplierAddress text, SupplierName text, SupplierContactDetails text, ProductID text, CarMaker text, CarModel text, CarColor text, CarModelYear text, CarPrice text, CustomerID text, CustomerName text, Gender text, JobTitle text, PhoneNumber text, EmailAddress text, City text, Country text, CountryCode text, State text, CustomerAddress text, OrderDate text, OrderID text, ShipDate text, ShipMode text, Shipping text, PostalCode text, Sales text, Quantity text, Discount text, CreditCardType text, CreditCard text, CustomerFeedback text)\")"
   ]
  },
  {
   "cell_type": "markdown",
   "id": "08549e3d",
   "metadata": {},
   "source": [
    "### <span style = 'color:Green'> ***Insert all the records into table : cars.*** </span>\n",
    "---"
   ]
  },
  {
   "cell_type": "code",
   "execution_count": 86,
   "id": "4f0f1d61",
   "metadata": {},
   "outputs": [
    {
     "name": "stdout",
     "output_type": "stream",
     "text": [
      "Data inserted successfully!\n"
     ]
    }
   ],
   "source": [
    "placeholders = ', '.join(['%s'] * len(df.columns))  # Generate %s placeholders for each column\n",
    "sql = f\"INSERT INTO car VALUES ({placeholders})\"\n",
    "\n",
    "# Insert records into the database\n",
    "try:\n",
    "    data = [tuple(row) for row in df.to_numpy()]  # Convert DataFrame rows to list of tuples\n",
    "    cur.executemany(sql, data)  # Batch insert\n",
    "    connection.commit()\n",
    "    print(\"Data inserted successfully!\")\n",
    "except Exception as e:\n",
    "    print(f\"An error occurred: {e}\")"
   ]
  },
  {
   "cell_type": "markdown",
   "id": "ccc7e67b",
   "metadata": {},
   "source": [
    "---"
   ]
  },
  {
   "cell_type": "code",
   "execution_count": null,
   "id": "c8974601",
   "metadata": {},
   "outputs": [],
   "source": []
  }
 ],
 "metadata": {
  "kernelspec": {
   "display_name": "Python 3 (ipykernel)",
   "language": "python",
   "name": "python3"
  },
  "language_info": {
   "codemirror_mode": {
    "name": "ipython",
    "version": 3
   },
   "file_extension": ".py",
   "mimetype": "text/x-python",
   "name": "python",
   "nbconvert_exporter": "python",
   "pygments_lexer": "ipython3",
   "version": "3.11.5"
  }
 },
 "nbformat": 4,
 "nbformat_minor": 5
}
